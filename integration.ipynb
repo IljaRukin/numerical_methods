{
 "cells": [
  {
   "cell_type": "code",
   "execution_count": 5,
   "metadata": {},
   "outputs": [],
   "source": [
    "%reset -f\n",
    "import numpy as np\n",
    "import sympy\n",
    "\n",
    "global i,pi\n",
    "i = np.complex(0,1)\n",
    "pi = np.pi"
   ]
  },
  {
   "cell_type": "markdown",
   "metadata": {},
   "source": [
    "## numerical integration\n",
    "from scratch"
   ]
  },
  {
   "cell_type": "code",
   "execution_count": 8,
   "metadata": {},
   "outputs": [
    {
     "name": "stdout",
     "output_type": "stream",
     "text": [
      "result 1.999997999998355\n"
     ]
    }
   ],
   "source": [
    "#calcullate integral of function with a rieman sum\n",
    "def integrate_rieman(f,a,b,N):\n",
    "    #arguments:\n",
    "    #function f\n",
    "    #start position a\n",
    "    #end position b\n",
    "    #subdivision steps N\n",
    "    \n",
    "    #step\n",
    "    dx=(b-a)/N\n",
    "    #array of values\n",
    "    x=np.linspace(a,b,N)\n",
    "    \n",
    "    #sum over area of rectangles with triangles at the boundary (a,b)\n",
    "    result= dx*( np.sum(f(x)) )\n",
    "    return result\n",
    "\n",
    "#function\n",
    "f = lambda x: np.sin(x)\n",
    "#sum over area of rectangles with triangles at the boundary (a,b)\n",
    "result = integrate_rieman(f,0,np.pi,1000000)\n",
    "print('result',str(result))"
   ]
  },
  {
   "cell_type": "code",
   "execution_count": 7,
   "metadata": {},
   "outputs": [
    {
     "name": "stdout",
     "output_type": "stream",
     "text": [
      "result 1.9999999999884848\n"
     ]
    }
   ],
   "source": [
    "#calcullate integral of function with a trapez rule\n",
    "def integrate_trapez(f,a,b,N):\n",
    "    #arguments:\n",
    "    #function f\n",
    "    #start position a\n",
    "    #end position b\n",
    "    #subdivision steps N\n",
    "    \n",
    "    #step\n",
    "    dx=(b-a)/N\n",
    "    #array of values\n",
    "    x=np.linspace(dx*1,dx*(N-2),N-2)\n",
    "    \n",
    "    #sum over area of rectangles with triangles at the boundary (a,b)\n",
    "    result= dx*( f(a)/2 + np.sum(f(x)) + f(b)/2 )\n",
    "    return result\n",
    "\n",
    "#function\n",
    "f = lambda x: np.sin(x)\n",
    "#sum over area of rectangles with triangles at the boundary (a,b)\n",
    "result = integrate_trapez(f,0,np.pi,1000000)\n",
    "print('result',str(result))"
   ]
  },
  {
   "cell_type": "markdown",
   "metadata": {},
   "source": [
    "## symbolical integration\n",
    "with sympy"
   ]
  },
  {
   "cell_type": "code",
   "execution_count": 3,
   "metadata": {},
   "outputs": [
    {
     "data": {
      "text/latex": [
       "$\\displaystyle \\int \\sin{\\left(x \\right)}\\, dx$"
      ],
      "text/plain": [
       "Integral(sin(x), x)"
      ]
     },
     "execution_count": 3,
     "metadata": {},
     "output_type": "execute_result"
    }
   ],
   "source": [
    "x,a,b = sympy.symbols('x a b')\n",
    "eq = sympy.Integral(sympy.sin(x),x)\n",
    "eq"
   ]
  },
  {
   "cell_type": "code",
   "execution_count": 4,
   "metadata": {},
   "outputs": [
    {
     "data": {
      "text/latex": [
       "$\\displaystyle - \\cos{\\left(x \\right)}$"
      ],
      "text/plain": [
       "-cos(x)"
      ]
     },
     "execution_count": 4,
     "metadata": {},
     "output_type": "execute_result"
    }
   ],
   "source": [
    "eq.doit()"
   ]
  },
  {
   "cell_type": "code",
   "execution_count": 12,
   "metadata": {},
   "outputs": [
    {
     "data": {
      "text/latex": [
       "$\\displaystyle \\begin{cases} 0 & \\text{for}\\: x \\geq \\pi \\vee x \\leq 0 \\\\\\sin{\\left(x \\right)} & \\text{otherwise} \\end{cases}$"
      ],
      "text/plain": [
       "Piecewise((0, (x >= pi) | (x <= 0)), (sin(x), True))"
      ]
     },
     "execution_count": 12,
     "metadata": {},
     "output_type": "execute_result"
    }
   ],
   "source": [
    "f = lambda x: sympy.Piecewise( (0,x<=0), (0,x>=sympy.pi), (sympy.sin(x),True) )\n",
    "#f = lambda x: sympy.sin(x)\n",
    "f(x)"
   ]
  },
  {
   "cell_type": "code",
   "execution_count": 13,
   "metadata": {},
   "outputs": [
    {
     "data": {
      "text/latex": [
       "$\\displaystyle \\begin{cases} 0 & \\text{for}\\: x \\leq 0 \\\\1 - \\cos{\\left(x \\right)} & \\text{for}\\: x \\leq \\pi \\\\2 & \\text{otherwise} \\end{cases}$"
      ],
      "text/plain": [
       "Piecewise((0, x <= 0), (1 - cos(x), x <= pi), (2, True))"
      ]
     },
     "execution_count": 13,
     "metadata": {},
     "output_type": "execute_result"
    }
   ],
   "source": [
    "sympy.integrate(f(x),x)"
   ]
  },
  {
   "cell_type": "code",
   "execution_count": 14,
   "metadata": {},
   "outputs": [
    {
     "data": {
      "text/latex": [
       "$\\displaystyle 2.0$"
      ],
      "text/plain": [
       "2.00000000000000"
      ]
     },
     "execution_count": 14,
     "metadata": {},
     "output_type": "execute_result"
    }
   ],
   "source": [
    "sympy.integrate(f(x),(x,0,pi))"
   ]
  },
  {
   "cell_type": "code",
   "execution_count": null,
   "metadata": {},
   "outputs": [],
   "source": []
  }
 ],
 "metadata": {
  "kernelspec": {
   "display_name": "Python 3",
   "language": "python",
   "name": "python3"
  },
  "language_info": {
   "codemirror_mode": {
    "name": "ipython",
    "version": 3
   },
   "file_extension": ".py",
   "mimetype": "text/x-python",
   "name": "python",
   "nbconvert_exporter": "python",
   "pygments_lexer": "ipython3",
   "version": "3.9.0"
  }
 },
 "nbformat": 4,
 "nbformat_minor": 2
}
