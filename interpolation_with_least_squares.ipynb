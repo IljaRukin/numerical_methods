{
 "cells": [
  {
   "cell_type": "markdown",
   "metadata": {},
   "source": [
    "## interpolation with least squares\n",
    "known function of n values $y_i$ at $x_i$ interpolated with a function $f(x,\\beta)$ dependent on parameters $\\beta$. The error (residuum) is: \n",
    "\\begin{equation}\n",
    "r_i = y_i - f(x_i,\\beta)\n",
    "\\end{equation}\n",
    "the sum of squared residuals is\n",
    "\\begin{equation}\n",
    "D = \\sum_{i=1}^{n} r_i^2\n",
    "\\end{equation}\n",
    "it is minimized at the location, where the gradient of S is zero\n",
    "\\begin{equation}\n",
    "\\frac{\\partial D}{\\partial \\beta_j} = 2 \\sum_{i=1}^{n} r_i \\frac{\\partial r_i}{\\partial \\beta_j}\\\\\n",
    "= - 2 \\sum_{i=1}^{n} r_i \\frac{\\partial f(x_i,\\beta_i)}{\\partial \\beta_j}\\\\\n",
    "\\stackrel{!}{=} 0\n",
    "\\end{equation}\n",
    "from this system of equations the parameters $\\beta_i$ can be obtained by exact analytical solution or by gradient descent numerically."
   ]
  },
  {
   "cell_type": "markdown",
   "metadata": {},
   "source": [
    "## application: linear interpolation\n",
    "\n",
    "<img src='linear_regression.png' style='width:450px'>\n"
   ]
  },
  {
   "cell_type": "markdown",
   "metadata": {},
   "source": [
    "## main equations\n",
    "\\begin{align}\n",
    "y(x) &= a \\cdot x + b \\\\\n",
    "b &= \\bar{y} - \\bar{x} a \\\\\n",
    "a &= \\frac{\\frac{1}{n}\\sum x_i y_i - \\bar{x} \\bar{y}}{\\bar{s}-\\bar{x}^2}\n",
    "\\end{align}"
   ]
  },
  {
   "cell_type": "code",
   "execution_count": 1,
   "metadata": {},
   "outputs": [
    {
     "data": {
      "image/png": "[encoded data removed]",
      "text/plain": [
       "<Figure size 432x288 with 1 Axes>"
      ]
     },
     "metadata": {
      "needs_background": "light"
     },
     "output_type": "display_data"
    }
   ],
   "source": [
    "import numpy as np\n",
    "import matplotlib.pyplot as plt\n",
    "#data\n",
    "x = np.arange(0,10,0.2)\n",
    "y = 0.5*x + 2 + 1.5*np.random.rand(x.shape[0])\n",
    "\n",
    "n = x.size\n",
    "x_bar = 1/n * x.sum()\n",
    "y_bar = 1/n * y.sum()\n",
    "s_bar = 1/n * np.square(x).sum()\n",
    "sum_xy = 1/n * (x*y).sum()\n",
    "\n",
    "a = (sum_xy-x_bar*y_bar)/(s_bar-x_bar**2)\n",
    "b = y_bar - x_bar*a\n",
    "\n",
    "plt.figure()\n",
    "plt.scatter(x,y,s=8)\n",
    "plt.plot(x,a*x+b)\n",
    "plt.show()"
   ]
  },
  {
   "cell_type": "code",
   "execution_count": null,
   "metadata": {},
   "outputs": [],
   "source": []
  }
 ],
 "metadata": {
  "kernelspec": {
   "display_name": "Python 3",
   "language": "python",
   "name": "python3"
  },
  "language_info": {
   "codemirror_mode": {
    "name": "ipython",
    "version": 3
   },
   "file_extension": ".py",
   "mimetype": "text/x-python",
   "name": "python",
   "nbconvert_exporter": "python",
   "pygments_lexer": "ipython3",
   "version": "3.9.0"
  }
 },
 "nbformat": 4,
 "nbformat_minor": 2
}
