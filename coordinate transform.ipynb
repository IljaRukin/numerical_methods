{
 "cells": [
  {
   "cell_type": "markdown",
   "metadata": {},
   "source": [
    "## Tensor Calculus\n",
    "some sources:\n",
    "\n",
    "https://www.youtube.com/playlist?list=PLJHszsWbB6hpk5h8lSfBkVrpjsqvUGTCx\n",
    "https://www.youtube.com/playlist?list=PLJHszsWbB6hqlw73QjgZcFh4DrkQLSCQa\n",
    "https://www.youtube.com/playlist?list=PL9txSunocNHjRqSmGjGHyL1eyeirr4tpM\n",
    "\n",
    "not complete, to be continued ..."
   ]
  },
  {
   "cell_type": "markdown",
   "metadata": {},
   "source": [
    "\n",
    "### change of basis\n",
    "\n",
    "\\begin{align}\n",
    "\\underbrace{\\frac{\\partial r}{\\partial x_i}}_{\\vec{e}_i} &= \\sum_j \\underbrace{\\frac{\\partial r}{\\partial x_j}}_{\\vec{e}_j} \\frac{\\partial x_j}{\\partial x_i} \\\\\n",
    "&= \\sum_j \\frac{\\partial x_j}{\\partial x_i} \\vec{e}_j \\\\\n",
    "\\Rightarrow \\vec{e}_i &= \\sum_j J_{ij} \\vec{e}_j \\\\\n",
    "J_{ij} &= \\frac{\\partial x_j}{\\partial x_i}\n",
    "\\end{align}\n",
    "\n",
    "\n",
    "### vector transformation\n",
    "\n",
    "\\begin{align}\n",
    "x_i &= \\sum_j \\frac{\\partial x_i}{\\partial x_j} x_j \\\\\n",
    "\\Rightarrow \\vec{v} &= J^{-1} \\vec{v} \\\\\n",
    "\\end{align}\n",
    "\n",
    "##### example\n",
    "\\begin{align}\n",
    "\\vec{r} &= x \\vec{e}_x + y \\vec{e}_y \\\\\n",
    "&= r \\cos(\\theta) \\vec{e}_x + r \\sin(\\theta) \\vec{e}_y \\\\\n",
    "&= r \\vec{e}_r + \\theta \\vec{e}_\\theta \\\\\n",
    "&= \\sqrt{x^2+y^2} \\vec{e}_r + \\arctan(y/x) \\vec{e}_\\theta \\\\\n",
    "\\end{align}\n",
    "\n",
    "\\begin{align}\n",
    "\\vec{e}_r &= \\frac{\\partial x}{\\partial r} \\vec{e}_x + \\frac{\\partial y}{\\partial r} \\vec{e}_y \\\\\n",
    "&= \\cos(\\theta) \\vec{e}_x + \\sin(\\theta) \\vec{e}_y \\\\\n",
    "\\vec{e}_\\theta &= \\frac{\\partial x}{\\partial \\theta} \\vec{e}_x + \\frac{\\partial y}{\\partial \\theta} \\vec{e}_y \\\\\n",
    "&= - r \\sin(\\theta) \\vec{e}_x + r \\cos(\\theta) \\vec{e}_y\n",
    "\\end{align}\n",
    "and normalized\n",
    "\\begin{align}\n",
    "\\vec{e}_r &= \\cos(\\theta) \\vec{e}_x + \\sin(\\theta) \\vec{e}_y \\\\\n",
    "\\vec{e}_\\theta &= - \\sin(\\theta) \\vec{e}_x + \\cos(\\theta) \\vec{e}_y\n",
    "\\end{align}\n",
    "\n",
    "or short\n",
    "\n",
    "\\begin{align}\n",
    "J &= \\begin{pmatrix} \\frac{\\partial x}{\\partial r} & \\frac{\\partial x}{\\partial \\theta} \\\\ \\frac{\\partial y}{\\partial r} & \\frac{\\partial y}{\\partial \\theta} \\end{pmatrix} \\\\\n",
    "&= \\begin{pmatrix} \\cos(\\theta) & - r \\sin(\\theta) \\\\ \\sin(\\theta) & r \\cos(\\theta) \\end{pmatrix} \\\\\n",
    "&= \\begin{pmatrix} x/r & - y \\\\ y/r & x \\end{pmatrix} \\\\\n",
    "\\end{align}\n",
    "\n",
    "\\begin{align}\n",
    "J^{-1} &= \\begin{pmatrix} \\frac{\\partial r}{\\partial x} & \\frac{\\partial r}{\\partial y} \\\\ \\frac{\\partial \\theta}{\\partial x} & \\frac{\\partial \\theta}{\\partial y} \\end{pmatrix} \\\\\n",
    "&= \\begin{pmatrix} x/r & y/r \\\\ -y/r^2 & x/r^2 \\end{pmatrix} \\\\\n",
    "&= \\begin{pmatrix} \\cos(\\theta) & \\sin(\\theta) \\\\ - 1/r \\sin(\\theta) & 1/r \\cos(\\theta) \\end{pmatrix} \\\\\n",
    "\\end{align}\n",
    "\n",
    "\\begin{align}\n",
    "\\begin{pmatrix} \\vec{e}_r \\\\ \\vec{e}_\\theta \\end{pmatrix} &= J \\begin{pmatrix} \\vec{e}_x \\\\ \\vec{e}_y \\end{pmatrix}\n",
    "\\end{align}\n"
   ]
  },
  {
   "cell_type": "markdown",
   "metadata": {},
   "source": [
    "## contravariant vector\n",
    "\n",
    "vector respresented by it's components $a^i[X]$ and basis vectors $\\hat{x}_i$ in coordinate System X.\n",
    "\n",
    "\\begin{align}\n",
    "\\vec{a} = \\sum_i a^i[X] \\cdot \\hat{x}_i\n",
    "\\end{align}\n",
    "\n",
    "with the basis vectors defined as the vector pointing in directions $x_i$ from point $\\vec{r}$\n",
    "\n",
    "\\begin{align}\n",
    "\\hat{x}_i  = \\frac{\\partial \\vec{r}}{\\partial x^i}\n",
    "\\end{align}\n",
    "\n",
    "Here the vector is projected parallel onto the coordinate axis, so that the sum of the components multiplied with the coresponding basis vectors reproduce the complete vector.\n",
    "\n",
    "it's transformation into another coordinate system is:\n",
    "\n",
    "\\begin{align}\n",
    "\\vec{a} &= \\sum_j a^j[Y] \\cdot \\hat{y}_j \\\\\n",
    " &= \\sum_j a^j[Y] \\cdot \\frac{\\partial \\vec{r}}{\\partial y^j} \\\\\n",
    " &= \\sum_j a^j[Y] \\cdot \\sum_i \\frac{\\partial \\vec{r}}{\\partial x^i} \\frac{\\partial x^i}{\\partial y^j} \\\\\n",
    " &= \\sum_j a^j[Y] \\cdot \\sum_i \\frac{\\partial x^i}{\\partial y^j} \\cdot \\hat{x}_i \\\\\n",
    " &= \\sum_i a^i[X] \\cdot \\hat{x}_i \\\\\n",
    "\\Rightarrow a_i[X] &= \\sum_j a^j[Y] \\frac{\\partial x^i}{\\partial y^j} \\\\\n",
    "\\end{align}\n"
   ]
  },
  {
   "cell_type": "markdown",
   "metadata": {},
   "source": [
    "## dual space and covectors\n",
    "\n",
    "Every vector $\\vec{a}$ in $V$ has a dual $\\alpha$ in $V^*$ such that given a vector $\\vec{v}$ as input it returns the orthogonal projection of $\\vec{v}$ onto a arbitrary vector $\\vec{A}$ by a dot product.\n",
    "\n",
    "\\begin{align}\n",
    "\\alpha (\\vec{v}) = \\vec{v} \\cdot \\vec{A}\n",
    "\\end{align}\n",
    "\n",
    "The dual $\\alpha$ is a collection $V^* = \\mathbb{R}^N$ of all possible functions (linear measurement-instruments/rulers) to map vectors in $V = \\mathbb{R}^N$ onto a scalar $\\in \\mathbb{R}$.\n",
    "\n",
    "It can be decomposed into linear functions $\\hat{x}^i$, wich return the components of the argument $\\vec{v}$\n",
    "\n",
    "$\\hat{x}^i(\\vec{v}) = v^i[X]$\n",
    "\n",
    "\n",
    "and components $\\alpha_i$ determined by the particular choice of $\\vec{A}$ :\n",
    "\n",
    "\\begin{align}\n",
    "\\alpha () = \\sum_i \\alpha_i[X] \\hat{x}^i ()\n",
    "\\end{align}\n",
    "\n",
    "transformation\n",
    "\n",
    "\\begin{align}\n",
    "\\alpha (\\vec{v}) &= \\sum_n \\alpha_n[X] \\hat{x}^n (\\vec{v}) \\\\\n",
    "&= \\sum_n \\alpha_n[X] v^n[X] \\\\\n",
    "&= \\sum_n \\alpha_n[X] \\sum_i \\frac{\\partial v^n}{\\partial u^i} u^i[Y] \\\\\n",
    "&= \\sum_i \\alpha_i[Y] \\hat{x}^i (\\vec{u}) \\\\\n",
    "\\Rightarrow \\alpha_n[Y] &= \\sum_n \\alpha_n[X] \\frac{\\partial v^n}{\\partial u^i}\n",
    "\\end{align}\n"
   ]
  },
  {
   "cell_type": "markdown",
   "metadata": {},
   "source": [
    "## distance and metric\n",
    "\n",
    "\\begin{align}\n",
    "|R|^2 &= \\Bigg[ \\begin{pmatrix} \\hat{e}_t & \\hat{e}_x \\end{pmatrix} \\begin{pmatrix} t \\\\ x \\end{pmatrix} \\Bigg]^T \\begin{pmatrix} \\hat{e}_t & \\hat{e}_x \\end{pmatrix} \\begin{pmatrix} x \\\\ y \\end{pmatrix} \\\\\n",
    "&= \\begin{pmatrix} x & y \\end{pmatrix} \\underbrace{ \\begin{pmatrix} \\hat{e}_x \\cdot \\hat{e}_x & \\hat{e}_x \\cdot \\hat{e}_y \\\\ \\hat{e}_x \\cdot \\hat{e}_y & \\hat{e}_y \\cdot \\hat{e}_y \\end{pmatrix} }_{\\text{metric tensor}} \\begin{pmatrix} x \\\\ y \\end{pmatrix} \\\\\n",
    "&= \\begin{pmatrix} x & y \\end{pmatrix} \\underbrace{ \\begin{pmatrix} 1 & 0 \\\\ 0 & 1 \\end{pmatrix} }_{\\text{cartesian metric tensor }=\\delta_{ij}} \\begin{pmatrix} x \\\\ y \\end{pmatrix} \\\\\n",
    "&= |x|^2 + |y|^2\n",
    "\\end{align}\n"
   ]
  },
  {
   "cell_type": "code",
   "execution_count": null,
   "metadata": {},
   "outputs": [],
   "source": []
  },
  {
   "cell_type": "markdown",
   "metadata": {},
   "source": [
    "## Gallilean Trafo\n",
    "\n",
    "\\begin{align}\n",
    "\\begin{pmatrix} t' \\\\ x' \\end{pmatrix} &= \\begin{pmatrix} 1 & 0 \\\\ -v & 1 \\end{pmatrix} \\begin{pmatrix} t \\\\ x \\end{pmatrix} = \\begin{pmatrix} t \\\\ x-vt \\end{pmatrix}\n",
    "\\end{align}\n"
   ]
  },
  {
   "cell_type": "code",
   "execution_count": null,
   "metadata": {},
   "outputs": [],
   "source": []
  }
 ],
 "metadata": {
  "kernelspec": {
   "display_name": "Python 3",
   "language": "python",
   "name": "python3"
  },
  "language_info": {
   "codemirror_mode": {
    "name": "ipython",
    "version": 3
   },
   "file_extension": ".py",
   "mimetype": "text/x-python",
   "name": "python",
   "nbconvert_exporter": "python",
   "pygments_lexer": "ipython3",
   "version": "3.9.0"
  }
 },
 "nbformat": 4,
 "nbformat_minor": 4
}
