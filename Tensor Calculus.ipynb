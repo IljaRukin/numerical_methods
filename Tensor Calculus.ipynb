{
 "cells": [
  {
   "cell_type": "markdown",
   "metadata": {},
   "source": [
    "## Tensor Calculus"
   ]
  },
  {
   "cell_type": "markdown",
   "metadata": {},
   "source": [
    "\n",
    "### change of basis\n",
    "\n",
    "\\begin{align}\n",
    "\\vec{e}_i = \\sum_k \\frac{\\partial r}{\\partial j} \\vec{e}_j \\\\\n",
    "\\vec{e}_i = \\sum_j J_{ij} \\vec{e}_j \\\\\n",
    "\\end{align}\n",
    "\n",
    "\n",
    "### vector transformation\n",
    "\n",
    "\\begin{align}\n",
    "\\vec{v} = \\sum_k \\frac{\\partial r}{\\partial j} \\vec{v} \\\\\n",
    "\\vec{v} = J_{ij}^{-1} \\vec{v} \\\\\n",
    "\\end{align}\n",
    "\n",
    "### Jacobi matrix\n",
    "\n",
    "\\begin{align}\n",
    "J_{ij} = \\frac{\\partial r}{\\partial k}\n",
    "\\end{align}\n",
    "\n",
    "\\begin{align}\n",
    "J_{ij} J_{ij}^{-1} = \\delta_{ij}\n",
    "\\end{align}\n",
    "\n",
    "##### example\n",
    "\\begin{align}\n",
    "x = r \\cos(\\theta) \\\\\n",
    "y = r \\sin(\\theta) \\\\\n",
    "J = \\begin{pmatrix} \\frac{\\partial x}{\\partial r} & \\frac{\\partial x}{\\partial r} \\\\ \\frac{\\partial x}{\\partial r} & \\frac{\\partial x}{\\partial r} \\end{pmatrix} = \\begin{pmatrix} \\frac{\\partial x}{\\partial r} & \\frac{\\partial x}{\\partial r} \\\\ \\frac{\\partial x}{\\partial r} & \\frac{\\partial x}{\\partial r} \\end{pmatrix} \\\\\n",
    "r = \\\\\n",
    "\\theta = \\frac{\\partial x}{\\partial \\theta} \\vec{e}_x + \\frac{\\partial y}{\\partial \\theta} \\vec{e}_y\n",
    "\\end{align}"
   ]
  },
  {
   "cell_type": "markdown",
   "metadata": {},
   "source": [
    "## Vectors\n",
    "\n",
    "vector $\\vec{a}$ in a contravariant and covariant vector representation.\n",
    "\n",
    "## Contravariant vector\n",
    "\n",
    "vector respresented by it's components $a^i[X]$ and basis vectors $\\hat{x}_i$ in coordinate System X.\n",
    "\n",
    "\\begin{align}\n",
    "\\vec{a} = \\sum_i a^i[X] \\cdot \\hat{x}_i\n",
    "\\end{align}\n",
    "\n",
    "with the basis vectors\n",
    "\n",
    "\\begin{align}\n",
    "\\hat{x}_i  = \\frac{\\partial \\vec{r}}{\\partial x^i}\n",
    "\\end{align}\n",
    "\n",
    "Here the vector is projected parallel onto the coordinate axis, so that the sum of the components multiplied with the coresponding basis vectors reproduce the complete vector.\n",
    "\n",
    "it's transformation into another coordinate system is:\n",
    "\n",
    "\\begin{align}\n",
    "\\vec{a} &= \\sum_j a^j[Y] \\cdot \\hat{y}_j \\\\\n",
    " &= \\sum_j a^j[Y] \\cdot \\frac{\\partial \\vec{r}}{\\partial y^j} \\\\\n",
    " &= \\sum_j a^j[Y] \\cdot \\sum_i \\frac{\\partial \\vec{r}}{\\partial x^i} \\frac{\\partial x^i}{\\partial y^j} \\\\\n",
    " &= \\sum_j a^j[Y] \\cdot \\sum_i \\frac{\\partial x^i}{\\partial y^j} \\cdot \\hat{x}_i \\\\\n",
    " &= \\sum_i a_i[X] \\cdot \\hat{x}_i \\\\\n",
    "\\Rightarrow a_i[X] &= \\sum_j a_j[Y] \\frac{\\partial x^i}{\\partial y^j} \\\\\n",
    "\\end{align}\n"
   ]
  },
  {
   "cell_type": "markdown",
   "metadata": {},
   "source": [
    "## dual space and covectors\n",
    "\n",
    "Every vector $\\vec{a}$ in $V$ has a dual $\\alpha$ in $V^*$ such that given a vector $\\vec{v}$ as input it returns the orthogonal projection of $\\vec{v}$ onto $\\vec{A}$ by a dot product.\n",
    "\n",
    "\\begin{align}\n",
    "\\alpha (\\vec{v}) = \\vec{v} \\cdot \\vec{A}\n",
    "\\end{align}\n",
    "\n",
    "$\\alpha$ is a collection $V^* = \\mathbb{R}^N$ of all possible functions (linear measurement-instruments/rulers) to map vectors in $V = \\mathbb{R}^N$ onto a scalar $\\in \\mathbb{R}$.\n",
    "\n",
    "It can be decomposed into linear functions $\\hat{x}^i$, wich return the components of the argument $\\vec{v}$\n",
    "\n",
    "$\\hat{x}^i(\\vec{v}) = v^i[X]$\n",
    "\n",
    "\n",
    "and components $\\alpha_i$ determined by the particular choice of $\\vec{A}$ :\n",
    "\n",
    "\\begin{align}\n",
    "\\alpha () = \\sum_i \\alpha_i[X] \\hat{x}^i ()\n",
    "\\end{align}\n",
    "\n",
    "transformation\n",
    "\n",
    "\\begin{align}\n",
    "\\alpha (\\vec{v}) &= \\sum_n \\alpha_n[X] \\hat{x}^n (\\vec{v}) \\\\\n",
    "&= \\sum_n \\alpha_n[X] v^n[X] \\\\\n",
    "&= \\sum_n \\alpha_n[X] \\sum_i \\frac{\\partial x^n}{\\partial y^i} v^i[Y] \\\\\n",
    "&= \\sum_n \\alpha_n[X] \\sum_i \\frac{\\partial x^n}{\\partial y^i} \\hat{y}^i (\\vec{v}) \\\\\n",
    "&= \\sum_i \\alpha_i[Y] \\hat{y}^i (\\vec{v}) \\\\\n",
    "\\Rightarrow \\alpha_i[Y] &= \\sum_n \\alpha_n[X] \\frac{\\partial x^n}{\\partial y^i}\n",
    "\\end{align}\n"
   ]
  },
  {
   "cell_type": "markdown",
   "metadata": {},
   "source": [
    "## Distance and metric\n",
    "\n",
    "\\begin{align}\n",
    "|R|^2 &= \\Bigg[ \\begin{pmatrix} \\hat{e}_t & \\hat{e}_x \\end{pmatrix} \\begin{pmatrix} t \\\\ x \\end{pmatrix} \\Bigg]^T \\begin{pmatrix} \\hat{e}_t & \\hat{e}_x \\end{pmatrix} \\begin{pmatrix} x \\\\ y \\end{pmatrix} \\\\\n",
    "&= \\begin{pmatrix} x & y \\end{pmatrix} \\underbrace{ \\begin{pmatrix} \\hat{e}_x \\cdot \\hat{e}_x & \\hat{e}_x \\cdot \\hat{e}_y \\\\ \\hat{e}_x \\cdot \\hat{e}_y & \\hat{e}_y \\cdot \\hat{e}_y \\end{pmatrix} }_{\\text{metric tensor}} \\begin{pmatrix} x \\\\ y \\end{pmatrix} \\\\\n",
    "&= \\begin{pmatrix} x & y \\end{pmatrix} \\underbrace{ \\begin{pmatrix} 1 & 0 \\\\ 0 & 1 \\end{pmatrix} }_{\\text{cartesian metric tensor }=\\delta_{ij}} \\begin{pmatrix} x \\\\ y \\end{pmatrix} \\\\\n",
    "&= |x|^2 + |y|^2\n",
    "\\end{align}\n"
   ]
  },
  {
   "cell_type": "code",
   "execution_count": null,
   "metadata": {},
   "outputs": [],
   "source": []
  },
  {
   "cell_type": "markdown",
   "metadata": {},
   "source": [
    "## Gallilean Trafo\n",
    "\n",
    "\\begin{align}\n",
    "t \\hat{e}_t + x \\hat{e}_x &= \\begin{pmatrix} \\hat{e}_t & \\hat{e}_x \\end{pmatrix} \\begin{pmatrix} t \\\\ x \\end{pmatrix} \\\\\n",
    "&= \\begin{pmatrix} \\hat{e}_t & \\hat{e}_x \\end{pmatrix} \\underbrace{\\begin{pmatrix} 1 & 0 \\\\ v & 1 \\end{pmatrix} \\begin{pmatrix} 1 & 0 \\\\ -v & 1 \\end{pmatrix}}_{\\mathbb{1}} \\begin{pmatrix} t \\\\ x \\end{pmatrix} \\\\\n",
    "&= \\begin{pmatrix} \\hat{e}'_t & \\hat{e}'_x \\end{pmatrix} \\begin{pmatrix} t' \\\\ x' \\end{pmatrix} \\\\\n",
    "\\end{align}\n"
   ]
  },
  {
   "cell_type": "code",
   "execution_count": null,
   "metadata": {},
   "outputs": [],
   "source": []
  }
 ],
 "metadata": {
  "kernelspec": {
   "display_name": "Python 3",
   "language": "python",
   "name": "python3"
  },
  "language_info": {
   "codemirror_mode": {
    "name": "ipython",
    "version": 3
   },
   "file_extension": ".py",
   "mimetype": "text/x-python",
   "name": "python",
   "nbconvert_exporter": "python",
   "pygments_lexer": "ipython3",
   "version": "3.9.0"
  }
 },
 "nbformat": 4,
 "nbformat_minor": 4
}
